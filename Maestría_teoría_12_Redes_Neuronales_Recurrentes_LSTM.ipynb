{
  "cells": [
    {
      "cell_type": "markdown",
      "metadata": {
        "id": "view-in-github",
        "colab_type": "text"
      },
      "source": [
        "<a href=\"https://colab.research.google.com/github/cdkuea/456469ek-/blob/main/Maestr%C3%ADa_teor%C3%ADa_12_Redes_Neuronales_Recurrentes_LSTM.ipynb\" target=\"_parent\"><img src=\"https://colab.research.google.com/assets/colab-badge.svg\" alt=\"Open In Colab\"/></a>"
      ]
    },
    {
      "cell_type": "markdown",
      "metadata": {
        "id": "XNsNw03Fw12j"
      },
      "source": [
        "<a href=\"https://colab.research.google.com/github/dieguito1331/cienciaDatos/blob/master/maestria/teoria/12 - Redes Neuronales Recurrentes - LSTM.ipynb\" target=\"_parent\"><img src=\"https://colab.research.google.com/assets/colab-badge.svg\" alt=\"Open In Colab\"/></a>"
      ]
    },
    {
      "cell_type": "markdown",
      "metadata": {
        "id": "50SnzIVMuZc5"
      },
      "source": [
        "# Redes Neuronales Recurrentes (RNN)"
      ]
    },
    {
      "cell_type": "markdown",
      "metadata": {
        "id": "xaJ3O60QuYSd"
      },
      "source": [
        "\n",
        "Dentro del Deep Learning existen muchas arquitecturas y cada una de ellas resuelve algún problema en particular. \n",
        "\n",
        "Las redes neuronales recurrentes (RNN) son un tipo de red neuronal. Las redes neuronales son una parte importante dentro del Deep Leanring que, a su vez, es un tipo de aprendizaje automático, uno de los campos de estudio de la Inteligencia Artificial. Este tipo de redes neuronales está especializado en el procesamiento de datos secuenciales o series temporales.\n",
        "\n",
        "¿Qué quiere decir esto? Pues que una RNN puede ayudar en la elaboración de modelos predictivos a partir de una secuencia de datos históricos. Un ejemplo de ello puede ser la elaboración de un modelo predictivo del volumen de ventas de una empresa. Esto podría ayudar a controlar mejor el stock y mejorar los procesos de producción de la compañía.\n",
        "\n",
        "La arquitectura de las redes neuronales recurrentes facilita que el programa o aplicación desarrollado con ellas pueda recordar y olvidar la información que procesa. De esta manera, este tipo de modelo de machine learning es capaz de recordar datos procesados al principio de la secuenciación para asociarlos con datos nuevos que va analizando.\n",
        "\n",
        "Esto hace que la s redes neuronales recurrentes también sean especialmente útiles para la creación de texto. Y es que, son capaces de analizar fragmentos de texto y generar nuevos contenidos a partir de ello. Así, una de sus aplicaciones la está encontrando en el desarrollo de aplicaciones de texto predictivo.\n",
        "\n",
        "Para ver una explicación completa de las redes neuronales LSTM haga click [aqui](https://youtu.be/1BubAvTVBYs)"
      ]
    },
    {
      "cell_type": "code",
      "execution_count": null,
      "metadata": {
        "id": "KwqdMRLmw1Zj"
      },
      "outputs": [],
      "source": [
        "import pandas as pd\n",
        "import numpy as np\n",
        "import os\n",
        "from google.colab import drive\n",
        "import matplotlib.pyplot as plt\n",
        "\n",
        "from sklearn.preprocessing import MinMaxScaler\n",
        "\n",
        "\n",
        "\n",
        "from keras.models import Sequential\n",
        "from keras.layers import Dense, LSTM\n"
      ]
    },
    {
      "cell_type": "code",
      "execution_count": null,
      "metadata": {
        "colab": {
          "base_uri": "https://localhost:8080/"
        },
        "id": "XvBfrr-T0naf",
        "outputId": "d2557eed-15b0-42e6-a73e-9e3e435b0d94"
      },
      "outputs": [
        {
          "output_type": "stream",
          "name": "stdout",
          "text": [
            "Mounted at /content/drive\n"
          ]
        }
      ],
      "source": [
        "#Levanto drive para poder almacenar los archivos\n",
        "drive.mount(\"/content/drive\")\n",
        "contentFolder = \"/content/drive/MyDrive/Austral - Data Mining\"\n",
        "if not os.path.exists(contentFolder):\n",
        "    os.mkdir(contentFolder)"
      ]
    },
    {
      "cell_type": "markdown",
      "metadata": {
        "id": "sF2tqqpi4n_q"
      },
      "source": [
        "### Levantamos el archivo y dividimos en train y test usando train los datos del 2016 y para test 2017"
      ]
    },
    {
      "cell_type": "code",
      "execution_count": null,
      "metadata": {
        "colab": {
          "base_uri": "https://localhost:8080/",
          "height": 206
        },
        "id": "ad34m8t90keF",
        "outputId": "2caa9660-e291-4990-c23d-550ca5390df5"
      },
      "outputs": [
        {
          "output_type": "execute_result",
          "data": {
            "text/plain": [
              "         Date   Open   High    Low  Close     Volume  Name\n",
              "0  2006-01-03  10.34  10.68  10.32  10.68  201853036  AAPL\n",
              "1  2006-01-04  10.73  10.85  10.64  10.71  155225609  AAPL\n",
              "2  2006-01-05  10.69  10.70  10.54  10.63  112396081  AAPL\n",
              "3  2006-01-06  10.75  10.96  10.65  10.90  176139334  AAPL\n",
              "4  2006-01-09  10.96  11.03  10.82  10.86  168861224  AAPL"
            ],
            "text/html": [
              "\n",
              "  <div id=\"df-13d1211a-0c78-4d00-a67f-9053191afd1f\">\n",
              "    <div class=\"colab-df-container\">\n",
              "      <div>\n",
              "<style scoped>\n",
              "    .dataframe tbody tr th:only-of-type {\n",
              "        vertical-align: middle;\n",
              "    }\n",
              "\n",
              "    .dataframe tbody tr th {\n",
              "        vertical-align: top;\n",
              "    }\n",
              "\n",
              "    .dataframe thead th {\n",
              "        text-align: right;\n",
              "    }\n",
              "</style>\n",
              "<table border=\"1\" class=\"dataframe\">\n",
              "  <thead>\n",
              "    <tr style=\"text-align: right;\">\n",
              "      <th></th>\n",
              "      <th>Date</th>\n",
              "      <th>Open</th>\n",
              "      <th>High</th>\n",
              "      <th>Low</th>\n",
              "      <th>Close</th>\n",
              "      <th>Volume</th>\n",
              "      <th>Name</th>\n",
              "    </tr>\n",
              "  </thead>\n",
              "  <tbody>\n",
              "    <tr>\n",
              "      <th>0</th>\n",
              "      <td>2006-01-03</td>\n",
              "      <td>10.34</td>\n",
              "      <td>10.68</td>\n",
              "      <td>10.32</td>\n",
              "      <td>10.68</td>\n",
              "      <td>201853036</td>\n",
              "      <td>AAPL</td>\n",
              "    </tr>\n",
              "    <tr>\n",
              "      <th>1</th>\n",
              "      <td>2006-01-04</td>\n",
              "      <td>10.73</td>\n",
              "      <td>10.85</td>\n",
              "      <td>10.64</td>\n",
              "      <td>10.71</td>\n",
              "      <td>155225609</td>\n",
              "      <td>AAPL</td>\n",
              "    </tr>\n",
              "    <tr>\n",
              "      <th>2</th>\n",
              "      <td>2006-01-05</td>\n",
              "      <td>10.69</td>\n",
              "      <td>10.70</td>\n",
              "      <td>10.54</td>\n",
              "      <td>10.63</td>\n",
              "      <td>112396081</td>\n",
              "      <td>AAPL</td>\n",
              "    </tr>\n",
              "    <tr>\n",
              "      <th>3</th>\n",
              "      <td>2006-01-06</td>\n",
              "      <td>10.75</td>\n",
              "      <td>10.96</td>\n",
              "      <td>10.65</td>\n",
              "      <td>10.90</td>\n",
              "      <td>176139334</td>\n",
              "      <td>AAPL</td>\n",
              "    </tr>\n",
              "    <tr>\n",
              "      <th>4</th>\n",
              "      <td>2006-01-09</td>\n",
              "      <td>10.96</td>\n",
              "      <td>11.03</td>\n",
              "      <td>10.82</td>\n",
              "      <td>10.86</td>\n",
              "      <td>168861224</td>\n",
              "      <td>AAPL</td>\n",
              "    </tr>\n",
              "  </tbody>\n",
              "</table>\n",
              "</div>\n",
              "      <button class=\"colab-df-convert\" onclick=\"convertToInteractive('df-13d1211a-0c78-4d00-a67f-9053191afd1f')\"\n",
              "              title=\"Convert this dataframe to an interactive table.\"\n",
              "              style=\"display:none;\">\n",
              "        \n",
              "  <svg xmlns=\"http://www.w3.org/2000/svg\" height=\"24px\"viewBox=\"0 0 24 24\"\n",
              "       width=\"24px\">\n",
              "    <path d=\"M0 0h24v24H0V0z\" fill=\"none\"/>\n",
              "    <path d=\"M18.56 5.44l.94 2.06.94-2.06 2.06-.94-2.06-.94-.94-2.06-.94 2.06-2.06.94zm-11 1L8.5 8.5l.94-2.06 2.06-.94-2.06-.94L8.5 2.5l-.94 2.06-2.06.94zm10 10l.94 2.06.94-2.06 2.06-.94-2.06-.94-.94-2.06-.94 2.06-2.06.94z\"/><path d=\"M17.41 7.96l-1.37-1.37c-.4-.4-.92-.59-1.43-.59-.52 0-1.04.2-1.43.59L10.3 9.45l-7.72 7.72c-.78.78-.78 2.05 0 2.83L4 21.41c.39.39.9.59 1.41.59.51 0 1.02-.2 1.41-.59l7.78-7.78 2.81-2.81c.8-.78.8-2.07 0-2.86zM5.41 20L4 18.59l7.72-7.72 1.47 1.35L5.41 20z\"/>\n",
              "  </svg>\n",
              "      </button>\n",
              "      \n",
              "  <style>\n",
              "    .colab-df-container {\n",
              "      display:flex;\n",
              "      flex-wrap:wrap;\n",
              "      gap: 12px;\n",
              "    }\n",
              "\n",
              "    .colab-df-convert {\n",
              "      background-color: #E8F0FE;\n",
              "      border: none;\n",
              "      border-radius: 50%;\n",
              "      cursor: pointer;\n",
              "      display: none;\n",
              "      fill: #1967D2;\n",
              "      height: 32px;\n",
              "      padding: 0 0 0 0;\n",
              "      width: 32px;\n",
              "    }\n",
              "\n",
              "    .colab-df-convert:hover {\n",
              "      background-color: #E2EBFA;\n",
              "      box-shadow: 0px 1px 2px rgba(60, 64, 67, 0.3), 0px 1px 3px 1px rgba(60, 64, 67, 0.15);\n",
              "      fill: #174EA6;\n",
              "    }\n",
              "\n",
              "    [theme=dark] .colab-df-convert {\n",
              "      background-color: #3B4455;\n",
              "      fill: #D2E3FC;\n",
              "    }\n",
              "\n",
              "    [theme=dark] .colab-df-convert:hover {\n",
              "      background-color: #434B5C;\n",
              "      box-shadow: 0px 1px 3px 1px rgba(0, 0, 0, 0.15);\n",
              "      filter: drop-shadow(0px 1px 2px rgba(0, 0, 0, 0.3));\n",
              "      fill: #FFFFFF;\n",
              "    }\n",
              "  </style>\n",
              "\n",
              "      <script>\n",
              "        const buttonEl =\n",
              "          document.querySelector('#df-13d1211a-0c78-4d00-a67f-9053191afd1f button.colab-df-convert');\n",
              "        buttonEl.style.display =\n",
              "          google.colab.kernel.accessAllowed ? 'block' : 'none';\n",
              "\n",
              "        async function convertToInteractive(key) {\n",
              "          const element = document.querySelector('#df-13d1211a-0c78-4d00-a67f-9053191afd1f');\n",
              "          const dataTable =\n",
              "            await google.colab.kernel.invokeFunction('convertToInteractive',\n",
              "                                                     [key], {});\n",
              "          if (!dataTable) return;\n",
              "\n",
              "          const docLinkHtml = 'Like what you see? Visit the ' +\n",
              "            '<a target=\"_blank\" href=https://colab.research.google.com/notebooks/data_table.ipynb>data table notebook</a>'\n",
              "            + ' to learn more about interactive tables.';\n",
              "          element.innerHTML = '';\n",
              "          dataTable['output_type'] = 'display_data';\n",
              "          await google.colab.output.renderOutput(dataTable, element);\n",
              "          const docLink = document.createElement('div');\n",
              "          docLink.innerHTML = docLinkHtml;\n",
              "          element.appendChild(docLink);\n",
              "        }\n",
              "      </script>\n",
              "    </div>\n",
              "  </div>\n",
              "  "
            ]
          },
          "metadata": {},
          "execution_count": 3
        }
      ],
      "source": [
        "data = pd.read_csv(\"https://raw.githubusercontent.com/codificandobits/Prediccion_de_acciones_en_la_bolsa_con_redes_LSTM/master/AAPL_2006-01-01_to_2018-01-01.csv\") #[:100]\n",
        "#data = pd.read_csv(\"{}/AAPL_2006-01-01_to_2018-01-01.csv\".format(contentFolder), index_col='Date', parse_dates=['Date'])\n",
        "data.head()"
      ]
    },
    {
      "cell_type": "code",
      "execution_count": null,
      "metadata": {
        "colab": {
          "base_uri": "https://localhost:8080/"
        },
        "id": "Vg8ev-7L1MX-",
        "outputId": "bf9b4096-6628-4646-8940-64dcf23fe7b7"
      },
      "outputs": [
        {
          "output_type": "execute_result",
          "data": {
            "text/plain": [
              "3019"
            ]
          },
          "metadata": {},
          "execution_count": 4
        }
      ],
      "source": [
        "len(data)"
      ]
    },
    {
      "cell_type": "code",
      "execution_count": null,
      "metadata": {
        "id": "UgBFSBYF1hDU"
      },
      "outputs": [],
      "source": [
        "train = data[:2016].iloc[:,4:5] #traigo todas las filas hasta el año 2016 y la 5ta columna que es Close.  \n",
        "test = data[2017:].iloc[:,4:5]"
      ]
    },
    {
      "cell_type": "code",
      "source": [
        "len(train)"
      ],
      "metadata": {
        "colab": {
          "base_uri": "https://localhost:8080/"
        },
        "id": "rGKpH1iJNnli",
        "outputId": "5cf7ce86-56b0-474d-8bdd-0a8bbe857136"
      },
      "execution_count": null,
      "outputs": [
        {
          "output_type": "execute_result",
          "data": {
            "text/plain": [
              "2016"
            ]
          },
          "metadata": {},
          "execution_count": 6
        }
      ]
    },
    {
      "cell_type": "code",
      "source": [
        "len(test)"
      ],
      "metadata": {
        "colab": {
          "base_uri": "https://localhost:8080/"
        },
        "id": "NgxWPDWJkB5F",
        "outputId": "a0718b81-cf10-4a4b-a913-a97a9429a2bb"
      },
      "execution_count": null,
      "outputs": [
        {
          "output_type": "execute_result",
          "data": {
            "text/plain": [
              "1002"
            ]
          },
          "metadata": {},
          "execution_count": 7
        }
      ]
    },
    {
      "cell_type": "markdown",
      "metadata": {
        "id": "VCVUsE0C20Lf"
      },
      "source": [
        "### Graficamos el valor de la accion en el tiempo "
      ]
    },
    {
      "cell_type": "code",
      "execution_count": null,
      "metadata": {
        "colab": {
          "base_uri": "https://localhost:8080/",
          "height": 430
        },
        "id": "AlJaiHu81061",
        "outputId": "7c3e7299-b6cf-4b21-ea49-fd12cc0a508b"
      },
      "outputs": [
        {
          "output_type": "display_data",
          "data": {
            "text/plain": [
              "<Figure size 640x480 with 1 Axes>"
            ],
            "image/png": "[encoded data removed]"
          },
          "metadata": {}
        }
      ],
      "source": [
        "train['Close'].plot(legend=True)\n",
        "test['Close'].plot(legend=True)\n",
        "plt.legend(['Entrenamiento (2006-2016)', 'Validación (2017)'])\n",
        "plt.show()\n"
      ]
    },
    {
      "cell_type": "markdown",
      "metadata": {
        "id": "rPF_p2Rj4yj8"
      },
      "source": [
        "### Normalizacion de los datos\n",
        "Si observamos los datos de la accion podemos ver que la misma posee un comportamiento creciente"
      ]
    },
    {
      "cell_type": "code",
      "execution_count": null,
      "metadata": {
        "id": "zzp1oqmB2nDk"
      },
      "outputs": [],
      "source": [
        "# Normalización del set de entrenamiento\n",
        "sc = MinMaxScaler(feature_range=(0,1)) #el output de este scaler va a estar entre 0 y 1 (X-Xmin)/(Xmax-Xmin)\n",
        "train_scaled = sc.fit_transform(train) #aplico el scaler a los datos de entrenamiento."
      ]
    },
    {
      "cell_type": "code",
      "execution_count": null,
      "metadata": {
        "colab": {
          "base_uri": "https://localhost:8080/",
          "height": 430
        },
        "id": "QASBJu1R31hj",
        "outputId": "505351e9-e942-45a2-ca75-0ab071f314fd"
      },
      "outputs": [
        {
          "output_type": "display_data",
          "data": {
            "text/plain": [
              "<Figure size 640x480 with 1 Axes>"
            ],
            "image/png": "[encoded data removed]"
          },
          "metadata": {}
        }
      ],
      "source": [
        "#datos luego de aplicar scaler:\n",
        "aux = train\n",
        "aux[\"close_scaled\"] = train_scaled\n",
        "aux[[\"close_scaled\"]].plot(legend=True)\n",
        "plt.show()\n",
        "del aux"
      ]
    },
    {
      "cell_type": "markdown",
      "metadata": {
        "id": "83JNqUA86K9A"
      },
      "source": [
        "#Armamos los datos para entrenar.\n",
        "Armamos los data sets X_train e y_train.\n",
        "Para entrenar la Red LSTM en nuestro caso tomaremos bloques de 60 datos consecutivos y la idea es que se pueda predecir el siguiente valor.\n",
        "\n",
        "Los bloques de 60 datos se almacenan en X_train y el dato a predecir se almacenara en y_train\n",
        "\n"
      ]
    },
    {
      "cell_type": "code",
      "execution_count": null,
      "metadata": {
        "id": "-3KZAM2W34Tt"
      },
      "outputs": [],
      "source": [
        "time_step = 60\n",
        "indexes = []\n",
        "X_train = []\n",
        "y_train = []\n",
        "m = len(train_scaled)\n",
        "ventana = 0\n",
        "for i in range(time_step,m-ventana):\n",
        "  X_train.append(train_scaled[i-time_step:i,0])\n",
        "  y_train.append(train_scaled[i+ventana,0])\n",
        "  indexes.append(train.index[i+ventana])\n",
        "X_train, Y_train = np.array(X_train), np.array(y_train) #convertidos en vectores\n",
        "# Reshape X_train para que se ajuste al modelo en Keras\n",
        "\n",
        "X_train = np.reshape(X_train, (X_train.shape[0], X_train.shape[1], 1)) #1956 x 60 x 1 samples x time steps x features porq lo pide Keras  features es 1 porq estamos usando solo la columna de close."
      ]
    },
    {
      "cell_type": "code",
      "source": [
        "X_train[0][0].ndim\n"
      ],
      "metadata": {
        "colab": {
          "base_uri": "https://localhost:8080/"
        },
        "id": "zo7jRgHuk0GM",
        "outputId": "f11bf41d-2ed9-4293-b7a8-0a1f8ff7675a"
      },
      "execution_count": null,
      "outputs": [
        {
          "output_type": "execute_result",
          "data": {
            "text/plain": [
              "1"
            ]
          },
          "metadata": {},
          "execution_count": 12
        }
      ]
    },
    {
      "cell_type": "code",
      "source": [
        "X_train"
      ],
      "metadata": {
        "colab": {
          "base_uri": "https://localhost:8080/"
        },
        "id": "JvsEnbr7sV0_",
        "outputId": "9b912503-de1a-4d47-825e-499d7b9f27c0"
      },
      "execution_count": null,
      "outputs": [
        {
          "output_type": "execute_result",
          "data": {
            "text/plain": [
              "array([[[0.0369654 ],\n",
              "        [0.03728777],\n",
              "        [0.03642811],\n",
              "        ...,\n",
              "        [0.01353965],\n",
              "        [0.01235762],\n",
              "        [0.01783795]],\n",
              "\n",
              "       [[0.03728777],\n",
              "        [0.03642811],\n",
              "        [0.03932946],\n",
              "        ...,\n",
              "        [0.01235762],\n",
              "        [0.01783795],\n",
              "        [0.0184827 ]],\n",
              "\n",
              "       [[0.03642811],\n",
              "        [0.03932946],\n",
              "        [0.03889963],\n",
              "        ...,\n",
              "        [0.01783795],\n",
              "        [0.0184827 ],\n",
              "        [0.0184827 ]],\n",
              "\n",
              "       ...,\n",
              "\n",
              "       [[0.66054159],\n",
              "        [0.66913819],\n",
              "        [0.67386632],\n",
              "        ...,\n",
              "        [0.77347948],\n",
              "        [0.78347303],\n",
              "        [0.77133032]],\n",
              "\n",
              "       [[0.66913819],\n",
              "        [0.67386632],\n",
              "        [0.67870191],\n",
              "        ...,\n",
              "        [0.78347303],\n",
              "        [0.77133032],\n",
              "        [0.75263271]],\n",
              "\n",
              "       [[0.67386632],\n",
              "        [0.67870191],\n",
              "        [0.68364496],\n",
              "        ...,\n",
              "        [0.77133032],\n",
              "        [0.75263271],\n",
              "        [0.75714593]]])"
            ]
          },
          "metadata": {},
          "execution_count": 13
        }
      ]
    },
    {
      "cell_type": "markdown",
      "metadata": {
        "id": "U2IKUq2C-Pnd"
      },
      "source": [
        "### Creamos el modelo y lo entrenamos\n",
        "El modelo constara de:\n",
        "* Capa de entrada con 60 neuronas (ventana de tiempo que usamos para entrenar)\n",
        "* Una capa LSTM de 50 neuronas\n",
        "* Una capa de Salida de 1 neurona"
      ]
    },
    {
      "cell_type": "code",
      "execution_count": null,
      "metadata": {
        "colab": {
          "base_uri": "https://localhost:8080/"
        },
        "id": "TswQ9ulc7sNd",
        "outputId": "669ecda4-c6b1-4d7d-85e0-54ce78d50ef0"
      },
      "outputs": [
        {
          "output_type": "stream",
          "name": "stdout",
          "text": [
            "Epoch 1/20\n",
            "62/62 [==============================] - 4s 29ms/step - loss: 0.0115\n",
            "Epoch 2/20\n",
            "62/62 [==============================] - 2s 29ms/step - loss: 0.0012\n",
            "Epoch 3/20\n",
            "62/62 [==============================] - 3s 47ms/step - loss: 8.9391e-04\n",
            "Epoch 4/20\n",
            "62/62 [==============================] - 3s 44ms/step - loss: 8.1779e-04\n",
            "Epoch 5/20\n",
            "62/62 [==============================] - 2s 28ms/step - loss: 5.9257e-04\n",
            "Epoch 6/20\n",
            "62/62 [==============================] - 2s 29ms/step - loss: 5.4504e-04\n",
            "Epoch 7/20\n",
            "62/62 [==============================] - 2s 29ms/step - loss: 5.5525e-04\n",
            "Epoch 8/20\n",
            "62/62 [==============================] - 2s 29ms/step - loss: 4.3903e-04\n",
            "Epoch 9/20\n",
            "62/62 [==============================] - 2s 30ms/step - loss: 4.2561e-04\n",
            "Epoch 10/20\n",
            "62/62 [==============================] - 3s 42ms/step - loss: 4.2842e-04\n",
            "Epoch 11/20\n",
            "62/62 [==============================] - 3s 47ms/step - loss: 3.7152e-04\n",
            "Epoch 12/20\n",
            "62/62 [==============================] - 2s 29ms/step - loss: 3.8215e-04\n",
            "Epoch 13/20\n",
            "62/62 [==============================] - 2s 30ms/step - loss: 3.5465e-04\n",
            "Epoch 14/20\n",
            "62/62 [==============================] - 2s 30ms/step - loss: 3.2756e-04\n",
            "Epoch 15/20\n",
            "62/62 [==============================] - 2s 30ms/step - loss: 3.3554e-04\n",
            "Epoch 16/20\n",
            "62/62 [==============================] - 2s 31ms/step - loss: 3.3948e-04\n",
            "Epoch 17/20\n",
            "62/62 [==============================] - 3s 45ms/step - loss: 2.7760e-04\n",
            "Epoch 18/20\n",
            "62/62 [==============================] - 4s 69ms/step - loss: 3.0243e-04\n",
            "Epoch 19/20\n",
            "62/62 [==============================] - 3s 41ms/step - loss: 3.2364e-04\n",
            "Epoch 20/20\n",
            "62/62 [==============================] - 2s 29ms/step - loss: 2.7786e-04\n"
          ]
        },
        {
          "output_type": "execute_result",
          "data": {
            "text/plain": [
              "<keras.callbacks.History at 0x7fb6783b2c20>"
            ]
          },
          "metadata": {},
          "execution_count": 14
        }
      ],
      "source": [
        "dim_entrada = (X_train.shape[1],1)  #60 x 1\n",
        "dim_salida = 1\n",
        "na = 50\n",
        "\n",
        "modelo = Sequential()\n",
        "modelo.add(LSTM(units=na, input_shape=dim_entrada))\n",
        "modelo.add(Dense(units=dim_salida))\n",
        "modelo.compile(optimizer='rmsprop', loss='mse') #root mean square propagation es una variante de stochastic gradient descent, actualiza los weights.\n",
        "modelo.fit(X_train,Y_train,epochs=20,batch_size=32)"
      ]
    },
    {
      "cell_type": "markdown",
      "metadata": {
        "id": "tA_uHFlhCs31"
      },
      "source": [
        "# Predecimos y graficamos"
      ]
    },
    {
      "cell_type": "code",
      "execution_count": null,
      "metadata": {
        "id": "HVVC9picCtQD"
      },
      "outputs": [],
      "source": [
        "def graficar_predicciones(real, prediccion, indices):\n",
        "    plt.plot(pd.DataFrame(real, index= indices),color='red', label='Valor real de la acción')\n",
        "    plt.plot(pd.DataFrame(prediccion, index = indices), color='blue', label='Predicción de la acción')\n",
        "    plt.ylim(1.1 * np.min(prediccion)/2, 1.1 * np.max(prediccion))\n",
        "    plt.xlabel('Tiempo')\n",
        "    plt.xticks(rotation=45)\n",
        "    plt.ylabel('Valor de la acción')\n",
        "    plt.legend()\n",
        "    plt.show()"
      ]
    },
    {
      "cell_type": "code",
      "execution_count": null,
      "metadata": {
        "id": "rDv7E219DY2r",
        "colab": {
          "base_uri": "https://localhost:8080/"
        },
        "outputId": "f3ce97b1-0ebf-4913-b7e7-2e06992eab71"
      },
      "outputs": [
        {
          "output_type": "stream",
          "name": "stdout",
          "text": [
            "30/30 [==============================] - 1s 11ms/step\n"
          ]
        }
      ],
      "source": [
        "X_test = []\n",
        "y_test = []\n",
        "indexes = []\n",
        "test_scaled = sc.transform(test)\n",
        "m = len(test)\n",
        "ventana = 0\n",
        "X_test = []\n",
        "for i in range(time_step,m-ventana):\n",
        "\n",
        "  X_test.append(test_scaled[i-time_step:i,0])\n",
        "  y_test.append(test_scaled[i+ventana,0])\n",
        "  indexes.append(test.index[i+ventana])\n",
        "X_test, Y_test = np.array(X_test), np.array(y_test)\n",
        "\n",
        "prediccion = modelo.predict(X_test)\n",
        "prediccion = sc.inverse_transform(prediccion)\n",
        "Y_test = sc.inverse_transform(Y_test.reshape(-1,1)) #aplicar inverse a los datos escalados para volver al formato de precio. \n"
      ]
    },
    {
      "cell_type": "code",
      "execution_count": null,
      "metadata": {
        "colab": {
          "base_uri": "https://localhost:8080/",
          "height": 470
        },
        "id": "fBXtvLOCE6r7",
        "outputId": "cb79d42e-6881-4724-ca75-c7888f35be2a"
      },
      "outputs": [
        {
          "output_type": "display_data",
          "data": {
            "text/plain": [
              "<Figure size 640x480 with 1 Axes>"
            ],
            "image/png": "[encoded data removed]"
          },
          "metadata": {}
        }
      ],
      "source": [
        "graficar_predicciones(Y_test, prediccion, indexes)"
      ]
    },
    {
      "cell_type": "code",
      "execution_count": null,
      "metadata": {
        "colab": {
          "base_uri": "https://localhost:8080/"
        },
        "id": "Ty97kuftJVot",
        "outputId": "f3ba3ad3-a83f-4f95-bbe0-329612d1d78c"
      },
      "outputs": [
        {
          "output_type": "execute_result",
          "data": {
            "text/plain": [
              "27.76631681228047"
            ]
          },
          "metadata": {},
          "execution_count": 18
        }
      ],
      "source": [
        "from sklearn.metrics import mean_squared_error\n",
        "mean_squared_error(Y_test, prediccion)\n"
      ]
    }
  ],
  "metadata": {
    "colab": {
      "provenance": [],
      "include_colab_link": true
    },
    "kernelspec": {
      "display_name": "Python 3",
      "name": "python3"
    },
    "language_info": {
      "name": "python"
    }
  },
  "nbformat": 4,
  "nbformat_minor": 0
}