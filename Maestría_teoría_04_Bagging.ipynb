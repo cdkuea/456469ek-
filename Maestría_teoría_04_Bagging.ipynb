{
  "cells": [
    {
      "cell_type": "markdown",
      "metadata": {
        "id": "view-in-github",
        "colab_type": "text"
      },
      "source": [
        "<a href=\"https://colab.research.google.com/github/cdkuea/456469ek-/blob/main/Maestr%C3%ADa_teor%C3%ADa_04_Bagging.ipynb\" target=\"_parent\"><img src=\"https://colab.research.google.com/assets/colab-badge.svg\" alt=\"Open In Colab\"/></a>"
      ]
    },
    {
      "cell_type": "markdown",
      "id": "d2fdded1",
      "metadata": {
        "id": "d2fdded1"
      },
      "source": [
        "<a href=\"https://colab.research.google.com/github/dieguito1331/cienciaDatos/blob/master/maestria/teoria/04 - Bagging.ipynb\" target=\"_parent\"><img src=\"https://colab.research.google.com/assets/colab-badge.svg\" alt=\"Open In Colab\"/></a>"
      ]
    },
    {
      "cell_type": "markdown",
      "id": "WDRaAKEgjKA6",
      "metadata": {
        "id": "WDRaAKEgjKA6"
      },
      "source": [
        "# **Ensembles**\n",
        "Los modelos estadísticos y de Machine Learning poseen un problema que es el equilibrio entre el sesgo (bias) y la varianza (variance)  \n",
        "El concepto de **sesgo** hace referencia a cuánto en promedio los valores con respecto a los valores reales. Es decir, nos dice qué tan real es la relación que encontró entre los predictores y la variable respuesta.  \n",
        "El término varianza nos dice cuánto cambia el modelo dependiendo de los datos utilizados en el entrenamiento. Lo que uno espera que un modelo pueda _**generalizar**_ su comportamiento, es decir, que con observaciones sucesivas (diferentes a las que se utilizó en el entrenamiento) el modelo no varíe demasiado sus resultados.  \n",
        "A medida que se aumenta la complejidad del modelo, éste logra adaptarse mejor a la realidad que se debe modelar, no obstante, si esta complejidad no es medida, puede aparecer un concepto denominado _overfitting_, esto significa que el modelo se ajusta tanto a los datos de entrenamiento que no es capaz de identificar nuevas observaciones. Por tal motivo, el mejor modelo será aquel que pueda equilibrar de la mejor manera el sesgo y la varianza.  \n",
        "La gran pregunta será, ¿cómo puedo controlar el sesgo y la varianza? Los árboles pequeños tienen poca varianza pero consiguen representar bien la relación entre las variables (alto sesgo). Por el contrario, árboles grandes se ajustan mucho a los datos de entrenamiento, por ende el sesgo es bajo pero la varianza es muy alta. Un método para resolver esta problemática es trabajar con métodos de _ensembles_.  \n",
        "Los **ensembles** son métodos que combinan múltiples modelos en uno sólo que tienen como objetivo lograr un equilibrio entre el sesgo y la varianza. Los dos ensembles más utilizados son:\n",
        "-  **Bagging**: Se generan muchos modelos, con un subconjunto distinto de datos para cada uno de los mismo. (Estos subconjuntos son armados en base a los datos de entrenamiento). Todos los modelos aportan a la hora de dar el _veredicto_ final, siendo así el valor final como la media de todas las predicciones(variables continuas) o la clase más frecuente (variables categóricas). El modelo más utilizado de esta técnica se denomina **Random Forest**\n",
        "- En el bagging se emplean modelos con muy poco sesgo pero muchísima varianza, lo que agregando dichos modelos se loggra reducir dicha varianza sin apenas modificar el sesgo.\n",
        "- En cambio en el boosting se emplean modelos con muy poca varianza pero mucho sesgo, que ajustanto secuencialmente, los modelos reducen.\n",
        "\n",
        "En el bagging la forma de tomar muestras aleatorias sobre la base de entrenamiento se realiza sobre la técnica de bootstraping. En los modelos boosting se ajustan los pesos de cad modelo en base a cada iteración.\n",
        "\n",
        "Estos tipos de modelos tienen un gran resultado en comparación de otros modelos más clásicos (por ejemplo regresiones logísticas, etc) pero se pierde un poco la interpretabilidad de los modelos. \n",
        "\n",
        "## **Bagging** (Bootstrap aggregation)\n",
        "Dadas $n$ mestras de observaciones independientes $Z_1, .., >_n$, cada una con una varianza $\\epsilon^2$, la varianza de la media de las observaciones es de $\\epsilon^2/n$. Dicho de otra forma, al promediar un con junto de observaciones, se reduce la varianza.  \n",
        "El Random Forest es una implementación del método Bagging con una diferencia, utiliza además una selección m predictores para cada una de las muestras armadas.\n",
        "\n",
        "![imagen](https://miro.medium.com/max/722/1*zbA_Ebgi1AC1dY5gpvHXdg.png)\n",
        "\n",
        "\n",
        "**Principales pasos relacionados al modelo Bagging**:\n",
        "- Creación de múltipes datasets: Sobre un único data set se crean n subdatasets, cada muestreo se realiza con la técnica de bootstrap con repetición. La cantidad de subsets será igual a la cantidad de iteraciones o clasificadores / regresores que se armen.\n",
        "- Construcción de múltiples clasificadores / regresores: Con cada una de las muestras creadas se arman los diferentes modelos. \n",
        "- Combinación de los modelos: Las predicciones de los modelos individuales se combinan para obtener un único resultado \n",
        "\n",
        "\n",
        "### bootstrapping \n",
        "source: [towardsdatascience.com](https://deepnote.com/@a_mas/Bootstrapping-en-Python-9ad885fd-c261-475e-b2b7-6461fd65490a)\n",
        "\n",
        "\n",
        "![imagen](https://deepnote.com/publish/9ad885fd-c261-475e-b2b7-6461fd65490a/14fd44ff-2902-4239-8cc6-0a3e073b1da8/file?path=bootstrapping.jpeg)\n",
        "\n",
        "El bootstrapping (o bootstrap) es un método de remuestreo propuesto por Bradley Efron en 1979. Se utiliza para aproximar la distribución en el muestreo de un estadístico. Se usa frecuentemente para aproximar el sesgo o la varianza de un análisis estadístico, así como para construir intervalos de confianza o realizar contrastes de hipótesis sobre parámetros de interés. En la mayor parte de los casos no pueden obtenerse expresiones cerradas para las aproximaciones bootstrap y por lo tanto es necesario obtener remuestras en un ordenador para poner a prueba el método. La enorme potencia de cálculo de los ordenadores actuales facilita considerablemente la aplicabilidad de este método tan costoso computacionalmente.\n",
        "\n",
        "La idea básica de bootstrap es que la inferencia sobre una población a partir de datos de muestra, (muestra → población), puede ser modelada mediante un nuevo muestreo de los datos de la muestra y realizando la inferencia sobre una muestra a partir de datos remuestreados. Como la población es desconocida, el verdadero error en una muestra estadística contra su valor poblacional es desconocido. En las re-muestras de bootstrap, la 'población' es de hecho la muestra, y esto se conoce; por lo tanto, se puede medir la calidad de la inferencia de la muestra \"verdadera\" a partir de datos remuestreados, (muestra re-muestreada)."
      ]
    },
    {
      "cell_type": "markdown",
      "id": "BNCMTD8mehum",
      "metadata": {
        "id": "BNCMTD8mehum"
      },
      "source": [
        "## implementación de Bootstrap en python"
      ]
    },
    {
      "cell_type": "code",
      "execution_count": null,
      "id": "275-0ALMel1U",
      "metadata": {
        "id": "275-0ALMel1U"
      },
      "outputs": [],
      "source": [
        "import numpy as np\n",
        "import random"
      ]
    },
    {
      "cell_type": "code",
      "execution_count": null,
      "id": "hiqS4-feeofC",
      "metadata": {
        "colab": {
          "base_uri": "https://localhost:8080/"
        },
        "id": "hiqS4-feeofC",
        "outputId": "823c672d-f025-4b10-80a6-5c66552f45d2"
      },
      "outputs": [
        {
          "output_type": "execute_result",
          "data": {
            "text/plain": [
              "array([24.75492956, 26.63961716, 25.06740859, ..., 23.80019917,\n",
              "       24.69428602, 25.85914658])"
            ]
          },
          "metadata": {},
          "execution_count": 2
        }
      ],
      "source": [
        "# Creamos una muestra aleatoria de 50.0000 personas que tienen una edad promedio de 25 años\n",
        "data = np.random.normal(loc = 25, size = 50000)\n",
        "data"
      ]
    },
    {
      "cell_type": "code",
      "execution_count": null,
      "id": "NJa9aZ8Heoht",
      "metadata": {
        "colab": {
          "base_uri": "https://localhost:8080/"
        },
        "id": "NJa9aZ8Heoht",
        "outputId": "36528d23-f595-4d85-9de2-996f72f1b07e"
      },
      "outputs": [
        {
          "output_type": "execute_result",
          "data": {
            "text/plain": [
              "25.00351775478018"
            ]
          },
          "metadata": {},
          "execution_count": 3
        }
      ],
      "source": [
        "#Calculamos el promedio\n",
        "data.mean()"
      ]
    },
    {
      "cell_type": "code",
      "execution_count": null,
      "id": "lw1iZHOxeomC",
      "metadata": {
        "id": "lw1iZHOxeomC"
      },
      "outputs": [],
      "source": [
        "# Vamos a crear 500 muestras de tamaño 100 para estimar el promedio\n",
        "promedio = []\n",
        "for i in range(500):\n",
        "    muestra = random.sample(data.tolist(), 100) #extraigo aleatoriamente de la base data 100 muestras y las convierto en lista.\n",
        "    prom = np.mean(muestra)\n",
        "    promedio.append(prom)"
      ]
    },
    {
      "cell_type": "code",
      "execution_count": null,
      "id": "RBfMxYJJeooZ",
      "metadata": {
        "colab": {
          "base_uri": "https://localhost:8080/"
        },
        "id": "RBfMxYJJeooZ",
        "outputId": "3add022e-ab46-44ba-bb2b-23e49c14c27e"
      },
      "outputs": [
        {
          "output_type": "execute_result",
          "data": {
            "text/plain": [
              "25.00186177787641"
            ]
          },
          "metadata": {},
          "execution_count": 5
        }
      ],
      "source": [
        "np.mean(promedio)    "
      ]
    },
    {
      "cell_type": "code",
      "execution_count": null,
      "id": "x8KqR0zMg_qb",
      "metadata": {
        "id": "x8KqR0zMg_qb"
      },
      "outputs": [],
      "source": [
        "import pandas as pd\n",
        "from sklearn.model_selection import train_test_split\n",
        "from sklearn.ensemble import RandomForestClassifier\n",
        "from sklearn.tree import DecisionTreeClassifier\n",
        "import os\n",
        "\n",
        "\n",
        "import pandas as pd\n",
        "import numpy as np\n",
        "#Este seteo de pandas sirve para que se puedan visualizar todas las columnas\n",
        "#del dataframe#############################\n",
        "pd.set_option('display.max_columns', None)#\n",
        "###########################################\n",
        "\n",
        "#Esta librería sirve para que oculte todo tipo de warnings que puedan \n",
        "#aparecer en el código. Generalmente si una función está por ser data de \n",
        "#baja o modificada en una librería, varias versiones antes aparecen estos\n",
        "#tipos de advertencias cuando se ejecuta el código\n",
        "import warnings###################\n",
        "warnings.filterwarnings(\"ignore\")#\n",
        "##################################\n",
        "\n",
        "#La función train_test_split sirve para dividir la base en dos partes\n",
        "#Train y test para poder entrenar y validar un modelo#\n",
        "from sklearn.model_selection import train_test_split##\n",
        "######################################################\n",
        "\n",
        "#Definimos las métricas\n",
        "from sklearn.metrics import confusion_matrix, accuracy_score, recall_score, precision_score, roc_auc_score, roc_curve\n",
        "\n",
        "import matplotlib.pyplot as plt\n",
        "\n",
        "#Importo Random Forest\n",
        "from sklearn.ensemble import RandomForestClassifier\n",
        "\n",
        "import os\n",
        "from google.colab import drive\n"
      ]
    },
    {
      "cell_type": "markdown",
      "id": "kpOKpXUsjyAM",
      "metadata": {
        "id": "kpOKpXUsjyAM"
      },
      "source": [
        "### Monto la carpeta de Drive"
      ]
    },
    {
      "cell_type": "code",
      "execution_count": null,
      "id": "o_WKfjl0kiRT",
      "metadata": {
        "colab": {
          "base_uri": "https://localhost:8080/"
        },
        "id": "o_WKfjl0kiRT",
        "outputId": "0a468341-d176-4619-90ce-528ceb8347ad"
      },
      "outputs": [
        {
          "output_type": "stream",
          "name": "stdout",
          "text": [
            "Mounted at /content/drive\n"
          ]
        }
      ],
      "source": [
        "#Levanto drive para poder almacenar los archivos\n",
        "drive.mount(\"/content/drive\")\n",
        "contentFolder = \"/content/drive/MyDrive/Austral - Data Mining\"\n",
        "if not os.path.exists(contentFolder):\n",
        "    os.mkdir(contentFolder)"
      ]
    },
    {
      "cell_type": "markdown",
      "id": "z4luYBawkk18",
      "metadata": {
        "id": "z4luYBawkk18"
      },
      "source": [
        "### Levanto la base "
      ]
    },
    {
      "cell_type": "code",
      "execution_count": null,
      "id": "0d0c7918-3c92-4674-982c-b885921344a4",
      "metadata": {
        "id": "0d0c7918-3c92-4674-982c-b885921344a4"
      },
      "outputs": [],
      "source": [
        "data = pd.read_csv(\"{}/titanicPreprocesada.txt\".format(contentFolder), sep=\";\")"
      ]
    },
    {
      "cell_type": "code",
      "execution_count": null,
      "id": "886cf107-7c8b-474f-8b59-1f0b5ed41ecd",
      "metadata": {
        "colab": {
          "base_uri": "https://localhost:8080/",
          "height": 206
        },
        "id": "886cf107-7c8b-474f-8b59-1f0b5ed41ecd",
        "outputId": "39298dad-aa55-4bac-e00f-17345d1e6c07"
      },
      "outputs": [
        {
          "output_type": "execute_result",
          "data": {
            "text/plain": [
              "   index  Survived        Age     Fare  ageRatioTitle  woe_sibSp  withFamily  \\\n",
              "0      0         0  22.000000   7.2500       0.785714   0.613513           1   \n",
              "1      1         1  26.000000   7.9250       1.194086  -0.166010           1   \n",
              "2      2         0  35.000000   8.0500       1.250000  -0.166010           1   \n",
              "3      3         0  21.773973   8.4583       0.777642  -0.166010           1   \n",
              "4      4         0   2.000000  21.0750       0.500000  -0.484418           1   \n",
              "\n",
              "   woe_parch  woe_title  ageRatioClass  fareRatioClass  \n",
              "0  -0.173905  -1.202121       0.916667        0.329545  \n",
              "1  -0.173905   1.297772       1.083333        0.304808  \n",
              "2  -0.173905  -1.202121       1.458333        0.230000  \n",
              "3  -0.173905  -1.202121       0.907249        0.388459  \n",
              "4   0.671764   0.758775       0.083333       10.537500  "
            ],
            "text/html": [
              "\n",
              "  <div id=\"df-a7549323-3f19-44c0-89b4-0fd8da3da645\">\n",
              "    <div class=\"colab-df-container\">\n",
              "      <div>\n",
              "<style scoped>\n",
              "    .dataframe tbody tr th:only-of-type {\n",
              "        vertical-align: middle;\n",
              "    }\n",
              "\n",
              "    .dataframe tbody tr th {\n",
              "        vertical-align: top;\n",
              "    }\n",
              "\n",
              "    .dataframe thead th {\n",
              "        text-align: right;\n",
              "    }\n",
              "</style>\n",
              "<table border=\"1\" class=\"dataframe\">\n",
              "  <thead>\n",
              "    <tr style=\"text-align: right;\">\n",
              "      <th></th>\n",
              "      <th>index</th>\n",
              "      <th>Survived</th>\n",
              "      <th>Age</th>\n",
              "      <th>Fare</th>\n",
              "      <th>ageRatioTitle</th>\n",
              "      <th>woe_sibSp</th>\n",
              "      <th>withFamily</th>\n",
              "      <th>woe_parch</th>\n",
              "      <th>woe_title</th>\n",
              "      <th>ageRatioClass</th>\n",
              "      <th>fareRatioClass</th>\n",
              "    </tr>\n",
              "  </thead>\n",
              "  <tbody>\n",
              "    <tr>\n",
              "      <th>0</th>\n",
              "      <td>0</td>\n",
              "      <td>0</td>\n",
              "      <td>22.000000</td>\n",
              "      <td>7.2500</td>\n",
              "      <td>0.785714</td>\n",
              "      <td>0.613513</td>\n",
              "      <td>1</td>\n",
              "      <td>-0.173905</td>\n",
              "      <td>-1.202121</td>\n",
              "      <td>0.916667</td>\n",
              "      <td>0.329545</td>\n",
              "    </tr>\n",
              "    <tr>\n",
              "      <th>1</th>\n",
              "      <td>1</td>\n",
              "      <td>1</td>\n",
              "      <td>26.000000</td>\n",
              "      <td>7.9250</td>\n",
              "      <td>1.194086</td>\n",
              "      <td>-0.166010</td>\n",
              "      <td>1</td>\n",
              "      <td>-0.173905</td>\n",
              "      <td>1.297772</td>\n",
              "      <td>1.083333</td>\n",
              "      <td>0.304808</td>\n",
              "    </tr>\n",
              "    <tr>\n",
              "      <th>2</th>\n",
              "      <td>2</td>\n",
              "      <td>0</td>\n",
              "      <td>35.000000</td>\n",
              "      <td>8.0500</td>\n",
              "      <td>1.250000</td>\n",
              "      <td>-0.166010</td>\n",
              "      <td>1</td>\n",
              "      <td>-0.173905</td>\n",
              "      <td>-1.202121</td>\n",
              "      <td>1.458333</td>\n",
              "      <td>0.230000</td>\n",
              "    </tr>\n",
              "    <tr>\n",
              "      <th>3</th>\n",
              "      <td>3</td>\n",
              "      <td>0</td>\n",
              "      <td>21.773973</td>\n",
              "      <td>8.4583</td>\n",
              "      <td>0.777642</td>\n",
              "      <td>-0.166010</td>\n",
              "      <td>1</td>\n",
              "      <td>-0.173905</td>\n",
              "      <td>-1.202121</td>\n",
              "      <td>0.907249</td>\n",
              "      <td>0.388459</td>\n",
              "    </tr>\n",
              "    <tr>\n",
              "      <th>4</th>\n",
              "      <td>4</td>\n",
              "      <td>0</td>\n",
              "      <td>2.000000</td>\n",
              "      <td>21.0750</td>\n",
              "      <td>0.500000</td>\n",
              "      <td>-0.484418</td>\n",
              "      <td>1</td>\n",
              "      <td>0.671764</td>\n",
              "      <td>0.758775</td>\n",
              "      <td>0.083333</td>\n",
              "      <td>10.537500</td>\n",
              "    </tr>\n",
              "  </tbody>\n",
              "</table>\n",
              "</div>\n",
              "      <button class=\"colab-df-convert\" onclick=\"convertToInteractive('df-a7549323-3f19-44c0-89b4-0fd8da3da645')\"\n",
              "              title=\"Convert this dataframe to an interactive table.\"\n",
              "              style=\"display:none;\">\n",
              "        \n",
              "  <svg xmlns=\"http://www.w3.org/2000/svg\" height=\"24px\"viewBox=\"0 0 24 24\"\n",
              "       width=\"24px\">\n",
              "    <path d=\"M0 0h24v24H0V0z\" fill=\"none\"/>\n",
              "    <path d=\"M18.56 5.44l.94 2.06.94-2.06 2.06-.94-2.06-.94-.94-2.06-.94 2.06-2.06.94zm-11 1L8.5 8.5l.94-2.06 2.06-.94-2.06-.94L8.5 2.5l-.94 2.06-2.06.94zm10 10l.94 2.06.94-2.06 2.06-.94-2.06-.94-.94-2.06-.94 2.06-2.06.94z\"/><path d=\"M17.41 7.96l-1.37-1.37c-.4-.4-.92-.59-1.43-.59-.52 0-1.04.2-1.43.59L10.3 9.45l-7.72 7.72c-.78.78-.78 2.05 0 2.83L4 21.41c.39.39.9.59 1.41.59.51 0 1.02-.2 1.41-.59l7.78-7.78 2.81-2.81c.8-.78.8-2.07 0-2.86zM5.41 20L4 18.59l7.72-7.72 1.47 1.35L5.41 20z\"/>\n",
              "  </svg>\n",
              "      </button>\n",
              "      \n",
              "  <style>\n",
              "    .colab-df-container {\n",
              "      display:flex;\n",
              "      flex-wrap:wrap;\n",
              "      gap: 12px;\n",
              "    }\n",
              "\n",
              "    .colab-df-convert {\n",
              "      background-color: #E8F0FE;\n",
              "      border: none;\n",
              "      border-radius: 50%;\n",
              "      cursor: pointer;\n",
              "      display: none;\n",
              "      fill: #1967D2;\n",
              "      height: 32px;\n",
              "      padding: 0 0 0 0;\n",
              "      width: 32px;\n",
              "    }\n",
              "\n",
              "    .colab-df-convert:hover {\n",
              "      background-color: #E2EBFA;\n",
              "      box-shadow: 0px 1px 2px rgba(60, 64, 67, 0.3), 0px 1px 3px 1px rgba(60, 64, 67, 0.15);\n",
              "      fill: #174EA6;\n",
              "    }\n",
              "\n",
              "    [theme=dark] .colab-df-convert {\n",
              "      background-color: #3B4455;\n",
              "      fill: #D2E3FC;\n",
              "    }\n",
              "\n",
              "    [theme=dark] .colab-df-convert:hover {\n",
              "      background-color: #434B5C;\n",
              "      box-shadow: 0px 1px 3px 1px rgba(0, 0, 0, 0.15);\n",
              "      filter: drop-shadow(0px 1px 2px rgba(0, 0, 0, 0.3));\n",
              "      fill: #FFFFFF;\n",
              "    }\n",
              "  </style>\n",
              "\n",
              "      <script>\n",
              "        const buttonEl =\n",
              "          document.querySelector('#df-a7549323-3f19-44c0-89b4-0fd8da3da645 button.colab-df-convert');\n",
              "        buttonEl.style.display =\n",
              "          google.colab.kernel.accessAllowed ? 'block' : 'none';\n",
              "\n",
              "        async function convertToInteractive(key) {\n",
              "          const element = document.querySelector('#df-a7549323-3f19-44c0-89b4-0fd8da3da645');\n",
              "          const dataTable =\n",
              "            await google.colab.kernel.invokeFunction('convertToInteractive',\n",
              "                                                     [key], {});\n",
              "          if (!dataTable) return;\n",
              "\n",
              "          const docLinkHtml = 'Like what you see? Visit the ' +\n",
              "            '<a target=\"_blank\" href=https://colab.research.google.com/notebooks/data_table.ipynb>data table notebook</a>'\n",
              "            + ' to learn more about interactive tables.';\n",
              "          element.innerHTML = '';\n",
              "          dataTable['output_type'] = 'display_data';\n",
              "          await google.colab.output.renderOutput(dataTable, element);\n",
              "          const docLink = document.createElement('div');\n",
              "          docLink.innerHTML = docLinkHtml;\n",
              "          element.appendChild(docLink);\n",
              "        }\n",
              "      </script>\n",
              "    </div>\n",
              "  </div>\n",
              "  "
            ]
          },
          "metadata": {},
          "execution_count": 10
        }
      ],
      "source": [
        "data.head()"
      ]
    },
    {
      "cell_type": "markdown",
      "id": "mue7s6xvNs5Y",
      "metadata": {
        "id": "mue7s6xvNs5Y"
      },
      "source": [
        "### Documentación de Scikit Learn\n",
        "\n",
        "*La* documentación de la implementación del árbol de decisión de Sklearn se encuentra [aqui](https://scikit-learn.org/stable/modules/generated/sklearn.tree.DecisionTreeClassifier.html)"
      ]
    },
    {
      "cell_type": "markdown",
      "id": "ElSZIrQ2OLzv",
      "metadata": {
        "id": "ElSZIrQ2OLzv"
      },
      "source": [
        "### Divido la base\n",
        "Divido la base en dos partes, una parte para entrenar el modelo (la llamaré train) y otra parte con la que testearé el modelo (la llamaré test)  \n",
        "Utilizo una función de la librería scikit que se denomina train_test_split() y la documentación la pueden entrondar [aqui](https://scikit-learn.org/stable/modules/generated/sklearn.model_selection.train_test_split.html)"
      ]
    },
    {
      "cell_type": "code",
      "execution_count": null,
      "id": "h9oBW-cTON-f",
      "metadata": {
        "id": "h9oBW-cTON-f"
      },
      "outputs": [],
      "source": [
        "X = data.drop(columns = [\"index\", \"Survived\"])\n",
        "y = data.Survived\n",
        "X_train, X_test, y_train, y_test = train_test_split(X, y, test_size=0.33, random_state=42)"
      ]
    },
    {
      "cell_type": "code",
      "execution_count": null,
      "id": "4efb6134-70cc-447c-ab13-042e2c304209",
      "metadata": {
        "colab": {
          "base_uri": "https://localhost:8080/"
        },
        "id": "4efb6134-70cc-447c-ab13-042e2c304209",
        "outputId": "47f5630e-195e-4df1-ddf4-73cab7883885"
      },
      "outputs": [
        {
          "output_type": "stream",
          "name": "stdout",
          "text": [
            "Registros de la base de entrenamiento: 596, que es el 0.6689113355780022 de la base total\n",
            "Registros de la base de testeo: 295, que es el 0.33108866442199775 de la base total\n"
          ]
        }
      ],
      "source": [
        "print(\"Registros de la base de entrenamiento: {}, que es el {} de la base total\".format(len(X_train), len(X_train)/len(X)))\n",
        "print(\"Registros de la base de testeo: {}, que es el {} de la base total\".format(len(X_test), len(X_test)/len(X)))"
      ]
    },
    {
      "cell_type": "markdown",
      "id": "04lOm3tgOpPw",
      "metadata": {
        "id": "04lOm3tgOpPw"
      },
      "source": [
        "### Entreno el modelo"
      ]
    },
    {
      "cell_type": "code",
      "execution_count": null,
      "id": "BMu2TktMldsj",
      "metadata": {
        "id": "BMu2TktMldsj"
      },
      "outputs": [],
      "source": [
        "rfModel = RandomForestClassifier().fit(X_train, y_train)\n",
        "rfProbs = rfModel.predict_proba(X_test)[:,-1]"
      ]
    },
    {
      "cell_type": "markdown",
      "id": "CxByuE6NkSfA",
      "metadata": {
        "id": "CxByuE6NkSfA"
      },
      "source": [
        "## Calculo el _accuracy_ del modelo"
      ]
    },
    {
      "cell_type": "code",
      "execution_count": null,
      "id": "f0dc0de1-54d4-4445-a09e-a0e00ede9619",
      "metadata": {
        "colab": {
          "base_uri": "https://localhost:8080/"
        },
        "id": "f0dc0de1-54d4-4445-a09e-a0e00ede9619",
        "outputId": "18ef9009-b799-430f-a518-fac14a20129c"
      },
      "outputs": [
        {
          "output_type": "execute_result",
          "data": {
            "text/plain": [
              "0.8135593220338984"
            ]
          },
          "metadata": {},
          "execution_count": 14
        }
      ],
      "source": [
        "accuracy_score(y_test, rfProbs > 0.5)"
      ]
    },
    {
      "cell_type": "markdown",
      "id": "YavZ_PFakbNW",
      "metadata": {
        "id": "YavZ_PFakbNW"
      },
      "source": [
        "## Genero el gráfico de la curva ROC para el modelo de Random Forest"
      ]
    },
    {
      "cell_type": "code",
      "execution_count": null,
      "id": "2c30ac95-20fd-4eff-a3db-7579171fae0d",
      "metadata": {
        "colab": {
          "base_uri": "https://localhost:8080/",
          "height": 872
        },
        "id": "2c30ac95-20fd-4eff-a3db-7579171fae0d",
        "outputId": "c2fa2062-73d4-4e62-c980-114da18d2041"
      },
      "outputs": [
        {
          "output_type": "display_data",
          "data": {
            "text/plain": [
              "<Figure size 1000x1000 with 1 Axes>"
            ],
            "image/png": "[encoded data removed]"
          },
          "metadata": {}
        }
      ],
      "source": [
        "#De esta forma graficamos la curva ROC y calculamos el área debajo de la curva\n",
        "areaBajoCurvaRoc = roc_auc_score(y_test, rfProbs)\n",
        "fpr, tpr, _ = roc_curve(y_test, rfProbs)\n",
        "plt.figure(figsize=(10,10))\n",
        "plt.title(\"Grafico ROC para el modelo\")\n",
        "plt.plot(fpr, tpr)\n",
        "plt.plot([0,1])\n",
        "plt.xlabel('FPR')\n",
        "plt.ylabel('TPR')\n",
        "plt.annotate('Area bajo la curva ROC del modelo: {}'.format(areaBajoCurvaRoc), (-0.02,0.99))\n",
        "plt.show()"
      ]
    },
    {
      "cell_type": "markdown",
      "id": "5xo8SNXnko-X",
      "metadata": {
        "id": "5xo8SNXnko-X"
      },
      "source": [
        "## Creo el gráfico _Feature Importance_"
      ]
    },
    {
      "cell_type": "code",
      "execution_count": null,
      "id": "68a22994-cfc0-4810-a38b-1b2d6366f5be",
      "metadata": {
        "colab": {
          "base_uri": "https://localhost:8080/",
          "height": 858
        },
        "id": "68a22994-cfc0-4810-a38b-1b2d6366f5be",
        "outputId": "c1cfbcc0-7fd7-4c97-94d9-2a99e41fdfb1"
      },
      "outputs": [
        {
          "output_type": "execute_result",
          "data": {
            "text/plain": [
              "([<matplotlib.axis.XTick at 0x7f9963faac40>,\n",
              "  <matplotlib.axis.XTick at 0x7f9963faac10>,\n",
              "  <matplotlib.axis.XTick at 0x7f9963faab20>,\n",
              "  <matplotlib.axis.XTick at 0x7f996718b250>,\n",
              "  <matplotlib.axis.XTick at 0x7f996718bd00>,\n",
              "  <matplotlib.axis.XTick at 0x7f99671907f0>,\n",
              "  <matplotlib.axis.XTick at 0x7f99671962e0>,\n",
              "  <matplotlib.axis.XTick at 0x7f996718b5b0>,\n",
              "  <matplotlib.axis.XTick at 0x7f9967196d00>],\n",
              " [Text(0, 0, 'woe_title'),\n",
              "  Text(1, 0, 'fareRatioClass'),\n",
              "  Text(2, 0, 'Fare'),\n",
              "  Text(3, 0, 'ageRatioClass'),\n",
              "  Text(4, 0, 'ageRatioTitle'),\n",
              "  Text(5, 0, 'Age'),\n",
              "  Text(6, 0, 'woe_sibSp'),\n",
              "  Text(7, 0, 'woe_parch'),\n",
              "  Text(8, 0, 'withFamily')])"
            ]
          },
          "metadata": {},
          "execution_count": 16
        },
        {
          "output_type": "display_data",
          "data": {
            "text/plain": [
              "<Figure size 640x480 with 1 Axes>"
            ],
            "image/png": "[encoded data removed]"
          },
          "metadata": {}
        }
      ],
      "source": [
        "#La importancia de las variables o feature importance nos permite identificar entre todos los modelos débiles que se generan las variables que más aparecen y te los pondera para \n",
        "#dar una explicación de las variables\n",
        "importances = rfModel.feature_importances_\n",
        "importances = importances / importances.sum()\n",
        "indices = np.argsort(importances)[::-1][0:20]\n",
        "names = [X_train.columns[i] for i in indices]\n",
        "plt.figure()\n",
        "plt.title(\"Feature Importance model 1\")\n",
        "plt.bar(range(len(names)), importances[indices])\n",
        "plt.xticks(range(len(names)), names, rotation=90)\n"
      ]
    },
    {
      "cell_type": "code",
      "execution_count": null,
      "id": "nAu1YqbKnLIr",
      "metadata": {
        "id": "nAu1YqbKnLIr"
      },
      "outputs": [],
      "source": [
        "\n",
        "X_test[\"probabilities\"] =  rfProbs\n",
        "#Normalizo el score y lo agrego como una nueva columna llamada normalizedscore.\n",
        "X_test[\"normalizedScore\"] = X_test.probabilities * 1000\n",
        "#Armo los buckets cada 100 puntos\n",
        "X_test[\"bucket\"] = pd.cut(X_test.normalizedScore, np.array([0,100,200,300,400,500,600,700,800,900,1000]))\n",
        "#Armo los deciles por scores\n",
        "X_test['decile'] = pd.qcut(X_test.probabilities, 10, labels=False)\n",
        "\n"
      ]
    },
    {
      "cell_type": "code",
      "execution_count": null,
      "id": "f6A0QpHYmdqd",
      "metadata": {
        "colab": {
          "base_uri": "https://localhost:8080/",
          "height": 394
        },
        "id": "f6A0QpHYmdqd",
        "outputId": "fa6067bc-7e03-432c-d7d9-074a64991f9c"
      },
      "outputs": [
        {
          "output_type": "execute_result",
          "data": {
            "text/plain": [
              "        Survived  Cases  notSurvived  % no Survived  % Survived  \\\n",
              "decile                                                            \n",
              "9             30     30            0           0.00        0.26   \n",
              "8             27     29            2           0.01        0.24   \n",
              "7             15     30           15           0.08        0.13   \n",
              "6             17     29           12           0.07        0.15   \n",
              "5              5     28           23           0.13        0.04   \n",
              "4              5     30           25           0.14        0.04   \n",
              "3              4     29           25           0.14        0.04   \n",
              "2              7     29           22           0.12        0.06   \n",
              "1              3     31           28           0.15        0.03   \n",
              "0              1     30           29           0.16        0.01   \n",
              "\n",
              "        % no Survived acum.  % Survived acum.  \n",
              "decile                                         \n",
              "9                      0.00              0.26  \n",
              "8                      0.01              0.50  \n",
              "7                      0.09              0.63  \n",
              "6                      0.16              0.78  \n",
              "5                      0.29              0.82  \n",
              "4                      0.43              0.86  \n",
              "3                      0.57              0.90  \n",
              "2                      0.69              0.96  \n",
              "1                      0.84              0.99  \n",
              "0                      1.00              1.00  "
            ],
            "text/html": [
              "\n",
              "  <div id=\"df-035430a5-a643-4008-9579-c5e587493234\">\n",
              "    <div class=\"colab-df-container\">\n",
              "      <div>\n",
              "<style scoped>\n",
              "    .dataframe tbody tr th:only-of-type {\n",
              "        vertical-align: middle;\n",
              "    }\n",
              "\n",
              "    .dataframe tbody tr th {\n",
              "        vertical-align: top;\n",
              "    }\n",
              "\n",
              "    .dataframe thead th {\n",
              "        text-align: right;\n",
              "    }\n",
              "</style>\n",
              "<table border=\"1\" class=\"dataframe\">\n",
              "  <thead>\n",
              "    <tr style=\"text-align: right;\">\n",
              "      <th></th>\n",
              "      <th>Survived</th>\n",
              "      <th>Cases</th>\n",
              "      <th>notSurvived</th>\n",
              "      <th>% no Survived</th>\n",
              "      <th>% Survived</th>\n",
              "      <th>% no Survived acum.</th>\n",
              "      <th>% Survived acum.</th>\n",
              "    </tr>\n",
              "    <tr>\n",
              "      <th>decile</th>\n",
              "      <th></th>\n",
              "      <th></th>\n",
              "      <th></th>\n",
              "      <th></th>\n",
              "      <th></th>\n",
              "      <th></th>\n",
              "      <th></th>\n",
              "    </tr>\n",
              "  </thead>\n",
              "  <tbody>\n",
              "    <tr>\n",
              "      <th>9</th>\n",
              "      <td>30</td>\n",
              "      <td>30</td>\n",
              "      <td>0</td>\n",
              "      <td>0.00</td>\n",
              "      <td>0.26</td>\n",
              "      <td>0.00</td>\n",
              "      <td>0.26</td>\n",
              "    </tr>\n",
              "    <tr>\n",
              "      <th>8</th>\n",
              "      <td>27</td>\n",
              "      <td>29</td>\n",
              "      <td>2</td>\n",
              "      <td>0.01</td>\n",
              "      <td>0.24</td>\n",
              "      <td>0.01</td>\n",
              "      <td>0.50</td>\n",
              "    </tr>\n",
              "    <tr>\n",
              "      <th>7</th>\n",
              "      <td>15</td>\n",
              "      <td>30</td>\n",
              "      <td>15</td>\n",
              "      <td>0.08</td>\n",
              "      <td>0.13</td>\n",
              "      <td>0.09</td>\n",
              "      <td>0.63</td>\n",
              "    </tr>\n",
              "    <tr>\n",
              "      <th>6</th>\n",
              "      <td>17</td>\n",
              "      <td>29</td>\n",
              "      <td>12</td>\n",
              "      <td>0.07</td>\n",
              "      <td>0.15</td>\n",
              "      <td>0.16</td>\n",
              "      <td>0.78</td>\n",
              "    </tr>\n",
              "    <tr>\n",
              "      <th>5</th>\n",
              "      <td>5</td>\n",
              "      <td>28</td>\n",
              "      <td>23</td>\n",
              "      <td>0.13</td>\n",
              "      <td>0.04</td>\n",
              "      <td>0.29</td>\n",
              "      <td>0.82</td>\n",
              "    </tr>\n",
              "    <tr>\n",
              "      <th>4</th>\n",
              "      <td>5</td>\n",
              "      <td>30</td>\n",
              "      <td>25</td>\n",
              "      <td>0.14</td>\n",
              "      <td>0.04</td>\n",
              "      <td>0.43</td>\n",
              "      <td>0.86</td>\n",
              "    </tr>\n",
              "    <tr>\n",
              "      <th>3</th>\n",
              "      <td>4</td>\n",
              "      <td>29</td>\n",
              "      <td>25</td>\n",
              "      <td>0.14</td>\n",
              "      <td>0.04</td>\n",
              "      <td>0.57</td>\n",
              "      <td>0.90</td>\n",
              "    </tr>\n",
              "    <tr>\n",
              "      <th>2</th>\n",
              "      <td>7</td>\n",
              "      <td>29</td>\n",
              "      <td>22</td>\n",
              "      <td>0.12</td>\n",
              "      <td>0.06</td>\n",
              "      <td>0.69</td>\n",
              "      <td>0.96</td>\n",
              "    </tr>\n",
              "    <tr>\n",
              "      <th>1</th>\n",
              "      <td>3</td>\n",
              "      <td>31</td>\n",
              "      <td>28</td>\n",
              "      <td>0.15</td>\n",
              "      <td>0.03</td>\n",
              "      <td>0.84</td>\n",
              "      <td>0.99</td>\n",
              "    </tr>\n",
              "    <tr>\n",
              "      <th>0</th>\n",
              "      <td>1</td>\n",
              "      <td>30</td>\n",
              "      <td>29</td>\n",
              "      <td>0.16</td>\n",
              "      <td>0.01</td>\n",
              "      <td>1.00</td>\n",
              "      <td>1.00</td>\n",
              "    </tr>\n",
              "  </tbody>\n",
              "</table>\n",
              "</div>\n",
              "      <button class=\"colab-df-convert\" onclick=\"convertToInteractive('df-035430a5-a643-4008-9579-c5e587493234')\"\n",
              "              title=\"Convert this dataframe to an interactive table.\"\n",
              "              style=\"display:none;\">\n",
              "        \n",
              "  <svg xmlns=\"http://www.w3.org/2000/svg\" height=\"24px\"viewBox=\"0 0 24 24\"\n",
              "       width=\"24px\">\n",
              "    <path d=\"M0 0h24v24H0V0z\" fill=\"none\"/>\n",
              "    <path d=\"M18.56 5.44l.94 2.06.94-2.06 2.06-.94-2.06-.94-.94-2.06-.94 2.06-2.06.94zm-11 1L8.5 8.5l.94-2.06 2.06-.94-2.06-.94L8.5 2.5l-.94 2.06-2.06.94zm10 10l.94 2.06.94-2.06 2.06-.94-2.06-.94-.94-2.06-.94 2.06-2.06.94z\"/><path d=\"M17.41 7.96l-1.37-1.37c-.4-.4-.92-.59-1.43-.59-.52 0-1.04.2-1.43.59L10.3 9.45l-7.72 7.72c-.78.78-.78 2.05 0 2.83L4 21.41c.39.39.9.59 1.41.59.51 0 1.02-.2 1.41-.59l7.78-7.78 2.81-2.81c.8-.78.8-2.07 0-2.86zM5.41 20L4 18.59l7.72-7.72 1.47 1.35L5.41 20z\"/>\n",
              "  </svg>\n",
              "      </button>\n",
              "      \n",
              "  <style>\n",
              "    .colab-df-container {\n",
              "      display:flex;\n",
              "      flex-wrap:wrap;\n",
              "      gap: 12px;\n",
              "    }\n",
              "\n",
              "    .colab-df-convert {\n",
              "      background-color: #E8F0FE;\n",
              "      border: none;\n",
              "      border-radius: 50%;\n",
              "      cursor: pointer;\n",
              "      display: none;\n",
              "      fill: #1967D2;\n",
              "      height: 32px;\n",
              "      padding: 0 0 0 0;\n",
              "      width: 32px;\n",
              "    }\n",
              "\n",
              "    .colab-df-convert:hover {\n",
              "      background-color: #E2EBFA;\n",
              "      box-shadow: 0px 1px 2px rgba(60, 64, 67, 0.3), 0px 1px 3px 1px rgba(60, 64, 67, 0.15);\n",
              "      fill: #174EA6;\n",
              "    }\n",
              "\n",
              "    [theme=dark] .colab-df-convert {\n",
              "      background-color: #3B4455;\n",
              "      fill: #D2E3FC;\n",
              "    }\n",
              "\n",
              "    [theme=dark] .colab-df-convert:hover {\n",
              "      background-color: #434B5C;\n",
              "      box-shadow: 0px 1px 3px 1px rgba(0, 0, 0, 0.15);\n",
              "      filter: drop-shadow(0px 1px 2px rgba(0, 0, 0, 0.3));\n",
              "      fill: #FFFFFF;\n",
              "    }\n",
              "  </style>\n",
              "\n",
              "      <script>\n",
              "        const buttonEl =\n",
              "          document.querySelector('#df-035430a5-a643-4008-9579-c5e587493234 button.colab-df-convert');\n",
              "        buttonEl.style.display =\n",
              "          google.colab.kernel.accessAllowed ? 'block' : 'none';\n",
              "\n",
              "        async function convertToInteractive(key) {\n",
              "          const element = document.querySelector('#df-035430a5-a643-4008-9579-c5e587493234');\n",
              "          const dataTable =\n",
              "            await google.colab.kernel.invokeFunction('convertToInteractive',\n",
              "                                                     [key], {});\n",
              "          if (!dataTable) return;\n",
              "\n",
              "          const docLinkHtml = 'Like what you see? Visit the ' +\n",
              "            '<a target=\"_blank\" href=https://colab.research.google.com/notebooks/data_table.ipynb>data table notebook</a>'\n",
              "            + ' to learn more about interactive tables.';\n",
              "          element.innerHTML = '';\n",
              "          dataTable['output_type'] = 'display_data';\n",
              "          await google.colab.output.renderOutput(dataTable, element);\n",
              "          const docLink = document.createElement('div');\n",
              "          docLink.innerHTML = docLinkHtml;\n",
              "          element.appendChild(docLink);\n",
              "        }\n",
              "      </script>\n",
              "    </div>\n",
              "  </div>\n",
              "  "
            ]
          },
          "metadata": {},
          "execution_count": 19
        }
      ],
      "source": [
        "X_test[\"Survived\"] = y_test\n",
        "\n",
        "measures = X_test.groupby(\"decile\").agg({\"Survived\": [\"sum\", \"count\"]}) #agrupa por decile y calcula el total de casos (count) y los survived (sum).\n",
        "measures.columns = [\"Survived\", \"Cases\"]\n",
        "measures[\"notSurvived\"] = measures[\"Cases\"]-measures[\"Survived\"] #calcula la cantidad de not survived.\n",
        "measures[\"% no Survived\"] = (measures[\"notSurvived\"] / len(X_test[X_test.Survived == 0])).round(2)\n",
        "measures[\"% Survived\"] = (measures[\"Survived\"] / len(X_test[X_test.Survived == 1])).round(2)\n",
        "measures = measures.sort_index(ascending = False) #ordena por decile.\n",
        "a = measures[[\"% no Survived\", \"% Survived\"]]\\\n",
        "                .cumsum()\\\n",
        "                .rename(columns={\"% no Survived\": \"% no Survived acum.\", \n",
        "                                 \"% Survived\": \"% Survived acum.\"})\n",
        "\n",
        "measures = measures.join(a)\n",
        "measures"
      ]
    },
    {
      "cell_type": "code",
      "execution_count": null,
      "id": "NwhS1DQcnHYK",
      "metadata": {
        "colab": {
          "base_uri": "https://localhost:8080/",
          "height": 394
        },
        "id": "NwhS1DQcnHYK",
        "outputId": "fef35542-a0c0-441e-9b69-f7c528435940"
      },
      "outputs": [
        {
          "data": {
            "text/html": [
              "\n",
              "  <div id=\"df-c050b95a-a91d-49ad-a6f4-afdef660c78b\">\n",
              "    <div class=\"colab-df-container\">\n",
              "      <div>\n",
              "<style scoped>\n",
              "    .dataframe tbody tr th:only-of-type {\n",
              "        vertical-align: middle;\n",
              "    }\n",
              "\n",
              "    .dataframe tbody tr th {\n",
              "        vertical-align: top;\n",
              "    }\n",
              "\n",
              "    .dataframe thead th {\n",
              "        text-align: right;\n",
              "    }\n",
              "</style>\n",
              "<table border=\"1\" class=\"dataframe\">\n",
              "  <thead>\n",
              "    <tr style=\"text-align: right;\">\n",
              "      <th></th>\n",
              "      <th>Survived</th>\n",
              "      <th>Cases</th>\n",
              "      <th>notSurvived</th>\n",
              "      <th>% no Survived</th>\n",
              "      <th>% Survived</th>\n",
              "      <th>% no Survived acum.</th>\n",
              "      <th>% Survived acum.</th>\n",
              "    </tr>\n",
              "    <tr>\n",
              "      <th>bucket</th>\n",
              "      <th></th>\n",
              "      <th></th>\n",
              "      <th></th>\n",
              "      <th></th>\n",
              "      <th></th>\n",
              "      <th></th>\n",
              "      <th></th>\n",
              "    </tr>\n",
              "  </thead>\n",
              "  <tbody>\n",
              "    <tr>\n",
              "      <th>(900, 1000]</th>\n",
              "      <td>34</td>\n",
              "      <td>34</td>\n",
              "      <td>0</td>\n",
              "      <td>0.00</td>\n",
              "      <td>0.30</td>\n",
              "      <td>0.00</td>\n",
              "      <td>0.30</td>\n",
              "    </tr>\n",
              "    <tr>\n",
              "      <th>(800, 900]</th>\n",
              "      <td>17</td>\n",
              "      <td>18</td>\n",
              "      <td>1</td>\n",
              "      <td>0.01</td>\n",
              "      <td>0.15</td>\n",
              "      <td>0.01</td>\n",
              "      <td>0.45</td>\n",
              "    </tr>\n",
              "    <tr>\n",
              "      <th>(700, 800]</th>\n",
              "      <td>11</td>\n",
              "      <td>17</td>\n",
              "      <td>6</td>\n",
              "      <td>0.03</td>\n",
              "      <td>0.10</td>\n",
              "      <td>0.04</td>\n",
              "      <td>0.55</td>\n",
              "    </tr>\n",
              "    <tr>\n",
              "      <th>(600, 700]</th>\n",
              "      <td>6</td>\n",
              "      <td>14</td>\n",
              "      <td>8</td>\n",
              "      <td>0.04</td>\n",
              "      <td>0.05</td>\n",
              "      <td>0.08</td>\n",
              "      <td>0.60</td>\n",
              "    </tr>\n",
              "    <tr>\n",
              "      <th>(500, 600]</th>\n",
              "      <td>9</td>\n",
              "      <td>15</td>\n",
              "      <td>6</td>\n",
              "      <td>0.03</td>\n",
              "      <td>0.08</td>\n",
              "      <td>0.11</td>\n",
              "      <td>0.68</td>\n",
              "    </tr>\n",
              "    <tr>\n",
              "      <th>(400, 500]</th>\n",
              "      <td>8</td>\n",
              "      <td>13</td>\n",
              "      <td>5</td>\n",
              "      <td>0.03</td>\n",
              "      <td>0.07</td>\n",
              "      <td>0.14</td>\n",
              "      <td>0.75</td>\n",
              "    </tr>\n",
              "    <tr>\n",
              "      <th>(300, 400]</th>\n",
              "      <td>6</td>\n",
              "      <td>19</td>\n",
              "      <td>13</td>\n",
              "      <td>0.07</td>\n",
              "      <td>0.05</td>\n",
              "      <td>0.21</td>\n",
              "      <td>0.80</td>\n",
              "    </tr>\n",
              "    <tr>\n",
              "      <th>(200, 300]</th>\n",
              "      <td>4</td>\n",
              "      <td>25</td>\n",
              "      <td>21</td>\n",
              "      <td>0.12</td>\n",
              "      <td>0.04</td>\n",
              "      <td>0.33</td>\n",
              "      <td>0.84</td>\n",
              "    </tr>\n",
              "    <tr>\n",
              "      <th>(100, 200]</th>\n",
              "      <td>10</td>\n",
              "      <td>49</td>\n",
              "      <td>39</td>\n",
              "      <td>0.22</td>\n",
              "      <td>0.09</td>\n",
              "      <td>0.55</td>\n",
              "      <td>0.93</td>\n",
              "    </tr>\n",
              "    <tr>\n",
              "      <th>(0, 100]</th>\n",
              "      <td>8</td>\n",
              "      <td>70</td>\n",
              "      <td>62</td>\n",
              "      <td>0.34</td>\n",
              "      <td>0.07</td>\n",
              "      <td>0.89</td>\n",
              "      <td>1.00</td>\n",
              "    </tr>\n",
              "  </tbody>\n",
              "</table>\n",
              "</div>\n",
              "      <button class=\"colab-df-convert\" onclick=\"convertToInteractive('df-c050b95a-a91d-49ad-a6f4-afdef660c78b')\"\n",
              "              title=\"Convert this dataframe to an interactive table.\"\n",
              "              style=\"display:none;\">\n",
              "        \n",
              "  <svg xmlns=\"http://www.w3.org/2000/svg\" height=\"24px\"viewBox=\"0 0 24 24\"\n",
              "       width=\"24px\">\n",
              "    <path d=\"M0 0h24v24H0V0z\" fill=\"none\"/>\n",
              "    <path d=\"M18.56 5.44l.94 2.06.94-2.06 2.06-.94-2.06-.94-.94-2.06-.94 2.06-2.06.94zm-11 1L8.5 8.5l.94-2.06 2.06-.94-2.06-.94L8.5 2.5l-.94 2.06-2.06.94zm10 10l.94 2.06.94-2.06 2.06-.94-2.06-.94-.94-2.06-.94 2.06-2.06.94z\"/><path d=\"M17.41 7.96l-1.37-1.37c-.4-.4-.92-.59-1.43-.59-.52 0-1.04.2-1.43.59L10.3 9.45l-7.72 7.72c-.78.78-.78 2.05 0 2.83L4 21.41c.39.39.9.59 1.41.59.51 0 1.02-.2 1.41-.59l7.78-7.78 2.81-2.81c.8-.78.8-2.07 0-2.86zM5.41 20L4 18.59l7.72-7.72 1.47 1.35L5.41 20z\"/>\n",
              "  </svg>\n",
              "      </button>\n",
              "      \n",
              "  <style>\n",
              "    .colab-df-container {\n",
              "      display:flex;\n",
              "      flex-wrap:wrap;\n",
              "      gap: 12px;\n",
              "    }\n",
              "\n",
              "    .colab-df-convert {\n",
              "      background-color: #E8F0FE;\n",
              "      border: none;\n",
              "      border-radius: 50%;\n",
              "      cursor: pointer;\n",
              "      display: none;\n",
              "      fill: #1967D2;\n",
              "      height: 32px;\n",
              "      padding: 0 0 0 0;\n",
              "      width: 32px;\n",
              "    }\n",
              "\n",
              "    .colab-df-convert:hover {\n",
              "      background-color: #E2EBFA;\n",
              "      box-shadow: 0px 1px 2px rgba(60, 64, 67, 0.3), 0px 1px 3px 1px rgba(60, 64, 67, 0.15);\n",
              "      fill: #174EA6;\n",
              "    }\n",
              "\n",
              "    [theme=dark] .colab-df-convert {\n",
              "      background-color: #3B4455;\n",
              "      fill: #D2E3FC;\n",
              "    }\n",
              "\n",
              "    [theme=dark] .colab-df-convert:hover {\n",
              "      background-color: #434B5C;\n",
              "      box-shadow: 0px 1px 3px 1px rgba(0, 0, 0, 0.15);\n",
              "      filter: drop-shadow(0px 1px 2px rgba(0, 0, 0, 0.3));\n",
              "      fill: #FFFFFF;\n",
              "    }\n",
              "  </style>\n",
              "\n",
              "      <script>\n",
              "        const buttonEl =\n",
              "          document.querySelector('#df-c050b95a-a91d-49ad-a6f4-afdef660c78b button.colab-df-convert');\n",
              "        buttonEl.style.display =\n",
              "          google.colab.kernel.accessAllowed ? 'block' : 'none';\n",
              "\n",
              "        async function convertToInteractive(key) {\n",
              "          const element = document.querySelector('#df-c050b95a-a91d-49ad-a6f4-afdef660c78b');\n",
              "          const dataTable =\n",
              "            await google.colab.kernel.invokeFunction('convertToInteractive',\n",
              "                                                     [key], {});\n",
              "          if (!dataTable) return;\n",
              "\n",
              "          const docLinkHtml = 'Like what you see? Visit the ' +\n",
              "            '<a target=\"_blank\" href=https://colab.research.google.com/notebooks/data_table.ipynb>data table notebook</a>'\n",
              "            + ' to learn more about interactive tables.';\n",
              "          element.innerHTML = '';\n",
              "          dataTable['output_type'] = 'display_data';\n",
              "          await google.colab.output.renderOutput(dataTable, element);\n",
              "          const docLink = document.createElement('div');\n",
              "          docLink.innerHTML = docLinkHtml;\n",
              "          element.appendChild(docLink);\n",
              "        }\n",
              "      </script>\n",
              "    </div>\n",
              "  </div>\n",
              "  "
            ],
            "text/plain": [
              "             Survived  Cases  notSurvived  % no Survived  % Survived  \\\n",
              "bucket                                                                 \n",
              "(900, 1000]        34     34            0           0.00        0.30   \n",
              "(800, 900]         17     18            1           0.01        0.15   \n",
              "(700, 800]         11     17            6           0.03        0.10   \n",
              "(600, 700]          6     14            8           0.04        0.05   \n",
              "(500, 600]          9     15            6           0.03        0.08   \n",
              "(400, 500]          8     13            5           0.03        0.07   \n",
              "(300, 400]          6     19           13           0.07        0.05   \n",
              "(200, 300]          4     25           21           0.12        0.04   \n",
              "(100, 200]         10     49           39           0.22        0.09   \n",
              "(0, 100]            8     70           62           0.34        0.07   \n",
              "\n",
              "             % no Survived acum.  % Survived acum.  \n",
              "bucket                                              \n",
              "(900, 1000]                 0.00              0.30  \n",
              "(800, 900]                  0.01              0.45  \n",
              "(700, 800]                  0.04              0.55  \n",
              "(600, 700]                  0.08              0.60  \n",
              "(500, 600]                  0.11              0.68  \n",
              "(400, 500]                  0.14              0.75  \n",
              "(300, 400]                  0.21              0.80  \n",
              "(200, 300]                  0.33              0.84  \n",
              "(100, 200]                  0.55              0.93  \n",
              "(0, 100]                    0.89              1.00  "
            ]
          },
          "execution_count": 33,
          "metadata": {},
          "output_type": "execute_result"
        }
      ],
      "source": [
        "measures = X_test.groupby(\"bucket\").agg({\"Survived\": [\"sum\", \"count\"]})\n",
        "measures.columns = [\"Survived\", \"Cases\"]\n",
        "measures[\"notSurvived\"] = measures[\"Cases\"]-measures[\"Survived\"]\n",
        "measures[\"% no Survived\"] = (measures[\"notSurvived\"] / len(X_test[X_test.Survived == 0])).round(2)\n",
        "measures[\"% Survived\"] = (measures[\"Survived\"] / len(X_test[X_test.Survived == 1])).round(2)\n",
        "measures = measures.sort_index(ascending = False)\n",
        "a = measures[[\"% no Survived\", \"% Survived\"]]\\\n",
        "                .cumsum()\\\n",
        "                .rename(columns={\"% no Survived\": \"% no Survived acum.\", \n",
        "                                 \"% Survived\": \"% Survived acum.\"})\n",
        "\n",
        "measures = measures.join(a)\n",
        "measures"
      ]
    },
    {
      "cell_type": "code",
      "execution_count": null,
      "id": "djzoPLT0nUBS",
      "metadata": {
        "id": "djzoPLT0nUBS"
      },
      "outputs": [],
      "source": []
    }
  ],
  "metadata": {
    "colab": {
      "provenance": [],
      "include_colab_link": true
    },
    "kernelspec": {
      "display_name": "Python 3 (ipykernel)",
      "language": "python",
      "name": "python3"
    },
    "language_info": {
      "codemirror_mode": {
        "name": "ipython",
        "version": 3
      },
      "file_extension": ".py",
      "mimetype": "text/x-python",
      "name": "python",
      "nbconvert_exporter": "python",
      "pygments_lexer": "ipython3",
      "version": "3.9.9"
    }
  },
  "nbformat": 4,
  "nbformat_minor": 5
}